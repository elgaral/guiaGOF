{
 "cells": [
  {
   "cell_type": "code",
   "execution_count": 16,
   "metadata": {},
   "outputs": [],
   "source": [
    "import numpy as np \n",
    "import matplotlib.pylab as plt\n",
    "from scipy.optimize import curve_fit\n",
    "from sklearn.metrics import r2_score\n",
    "from matplotlib.ticker import (AutoMinorLocator, MultipleLocator)"
   ]
  },
  {
   "cell_type": "markdown",
   "metadata": {},
   "source": [
    "# Lunes , 6 de junio de 2022\n",
    "\n",
    "Comparación del valor de potencia medido por el Power meter 1815-C y el valor medido usando el equipo del ITM (Fotodetector: Lightwave OMH-6722B).\n",
    "\n",
    "Las medidas fueron tomadas luego de la EFTL. Se fijo la longitud de onda en 1063.6 nm\n",
    "\n",
    "NOTA: Se uso el filtro interferométrico en la banda 1064 nm, porque el láser deja pasar parte del láser de 980 nm.\n",
    "\n",
    "\n",
    " \n",
    "# 6722B\n",
    "\n",
    "Las siguientes posiciones hacen referencia a la potencia que se midio para un paso fijado en el disco.\n",
    "\n",
    "Primera posición: disco paso 100\n",
    "\n",
    "Segunda posición: disco paso 500\n",
    "\n",
    "Tercera posición: disco paso 1000\n",
    "\n",
    "Cuarta posición: disco paso 1500\n",
    "\n",
    "Quinta posición: disco paso 300\n",
    "\n",
    "Sexta posición: disco paso 700\n",
    "\n",
    "Septima posición: disco paso 1300\n",
    "\n"
   ]
  },
  {
   "cell_type": "code",
   "execution_count": 17,
   "metadata": {},
   "outputs": [],
   "source": [
    "#Escala 5\n",
    "#Primera posición: 100\n",
    "#Corriente de 0 mA en la lente\n",
    "\n",
    "P_6722_1=np.array([133,131,130,124]) #Det  6722B\n",
    "P_6722_1=np.array([np.mean(P_6722_1)])\n",
    "\n",
    "P_meter1=np.array([118,116,119,117]) #13223\n",
    "P_meter1=np.array([np.mean(P_meter1)])\n",
    "\n",
    "#Medidas para el 13220\n",
    "\n",
    "P1_6722_1=np.array([127]) #Det  6722B\n",
    "P1_meter1=np.array([128]) #13220"
   ]
  },
  {
   "cell_type": "code",
   "execution_count": 18,
   "metadata": {},
   "outputs": [],
   "source": [
    "#Escala 5\n",
    "#Segunda posición: 500\n",
    "#Corriente de 0 mA en la lente\n",
    "\n",
    "P_6722_2=np.array([37,31.6,31.5,35]) #Det  6722B\n",
    "P_6722_2=np.array([np.mean(P_6722_2)])\n",
    "P_meter2=np.array([38]) #13223\n",
    "\n",
    "#Medidas para el 13220\n",
    "\n",
    "P1_6722_2=np.array([35]) #Det  6722B\n",
    "P1_meter2=np.array([35]) #13220"
   ]
  },
  {
   "cell_type": "code",
   "execution_count": 19,
   "metadata": {},
   "outputs": [],
   "source": [
    "#Escala 5\n",
    "#Tercera posición: 1000\n",
    "#Corriente de 0 mA en la lente\n",
    "\n",
    "P_6722_3=np.array([4.1,3.5,3.9]) #Det  6722B\n",
    "P_6722_3=np.array([np.mean(P_6722_3)])\n",
    "P_meter3=np.array([4.3]) #13223\n",
    "\n",
    "\n",
    "\n",
    "#Medidas para el 13220\n",
    "\n",
    "P1_6722_3=np.array([4]) #Det  6722B\n",
    "P1_meter3=np.array([4]) #13220"
   ]
  },
  {
   "cell_type": "code",
   "execution_count": 20,
   "metadata": {},
   "outputs": [],
   "source": [
    "#Escala 5\n",
    "#Cuarta posición:1500\n",
    "#Corriente de 0 mA en la lente\n",
    "\n",
    "P_6722_4=np.array([490e-3]) #Det  6722B\n",
    "P_meter4=np.array([0.4]) #13223\n",
    "\n",
    "\n",
    "#Medidas para el 13220\n",
    "#No se hizo para este detector\n",
    "#P1_6722_4=np.array([])\n",
    "#P1_meter4=np.array([118,116,119,117]) #13223"
   ]
  },
  {
   "cell_type": "code",
   "execution_count": 21,
   "metadata": {},
   "outputs": [],
   "source": [
    "#Escala 5\n",
    "#Quinta posición:300\n",
    "#Corriente de 0 mA en la lente\n",
    "\n",
    "P_6722_5=np.array([121]) #Det  6722B\n",
    "P_meter5=np.array([106]) #13223\n",
    "\n",
    "\n",
    "#Medidas para el 13220\n",
    "\n",
    "P1_6722_5=np.array([123])\n",
    "P1_meter5=np.array([125]) #13220\n"
   ]
  },
  {
   "cell_type": "code",
   "execution_count": 22,
   "metadata": {},
   "outputs": [],
   "source": [
    "#Escala 5\n",
    "#Sexta posición: 700\n",
    "#Corriente de 0 mA en la lente\n",
    "\n",
    "P_6722_6=np.array([14]) #Det  6722B\n",
    "P_meter6=np.array([12.6]) #13223\n",
    "\n",
    "\n",
    "#Medidas para el 13220\n",
    "\n",
    "P1_6722_6=np.array([13]) #Det  6722B\n",
    "P1_meter6=np.array([14]) #13220"
   ]
  },
  {
   "cell_type": "code",
   "execution_count": 23,
   "metadata": {},
   "outputs": [],
   "source": [
    "#Escala 5\n",
    "#Septima posición: 1300\n",
    "#Corriente de 0 mA en la lente\n",
    "\n",
    "P_6722_7=np.array([1.1]) #Det  6722B\n",
    "P_meter7=np.array([0.9]) #13223\n",
    "\n",
    "\n",
    "#Medidas para el 13220\n",
    "#No se hizo para este detector\n",
    "#P1_6722_7=np.array([])\n",
    "#P1_meter7=np.array([118,116,119,117]) #13223"
   ]
  },
  {
   "cell_type": "code",
   "execution_count": 24,
   "metadata": {},
   "outputs": [],
   "source": [
    "power_meter=[]\n",
    "P6722B=[]\n",
    "\n",
    "power_meter1=[]\n",
    "P6722B1=[]\n",
    "\n",
    "#13223\n",
    "PM=[]\n",
    "PITM=[]\n",
    "for i in range(1,8):\n",
    "    power_meter.append('P_meter'+str(i))\n",
    "    P6722B.append('P_6722_'+str(i))\n",
    "\n",
    "#13220\n",
    "PM1=[]\n",
    "PITM1=[]\n",
    "for i in range(1,7):\n",
    "    if i!=4:\n",
    "        power_meter1.append('P1_meter'+str(i))\n",
    "        P6722B1.append('P1_6722_'+str(i))\n",
    "\n",
    "for i in range(len(power_meter)):\n",
    "    \n",
    "    PM.append(eval(power_meter[i])[0])\n",
    "    PITM.append(eval(P6722B[i])[0])\n",
    "\n",
    "for i in range(len(power_meter1)):\n",
    "    \n",
    "    PM1.append(eval(power_meter1[i])[0])\n",
    "    PITM1.append(eval(P6722B1[i])[0])"
   ]
  },
  {
   "cell_type": "code",
   "execution_count": 42,
   "metadata": {},
   "outputs": [],
   "source": [
    "\n",
    "\n",
    "PM=np.sort(PM)\n",
    "PITM=np.sort(PITM)\n",
    "\n",
    "PM1=np.sort(PM1)\n",
    "PITM1=np.sort(PITM1)\n",
    "\n",
    "def ajuste(x, a,  b):\n",
    "    return a+b*x\n",
    "\n",
    "#Ajuste 13223\n",
    "popt, cov2  = curve_fit(ajuste, PM, PITM)\n",
    "w2_ajuste1 = ajuste(PM, *popt)\n",
    "#Ajuste 13220\n",
    "popt1, cov2  = curve_fit(ajuste, PM1, PITM1)\n",
    "w2_ajuste2 = ajuste(PM1, *popt1)"
   ]
  },
  {
   "cell_type": "code",
   "execution_count": 43,
   "metadata": {},
   "outputs": [
    {
     "data": {
      "image/png": "[encoded data removed]",
      "text/plain": [
       "<Figure size 1008x504 with 2 Axes>"
      ]
     },
     "metadata": {
      "needs_background": "light"
     },
     "output_type": "display_data"
    }
   ],
   "source": [
    "# Gráficación de los datos\n",
    "det=['6767B','6722B','13220','13223']\n",
    "plt.rcParams['figure.figsize'] = 14, 7 # para modificar el tamaño de la figura\n",
    "font = {'weight' : 'bold', 'size'   : 18}\n",
    "\n",
    "fig1 = plt.figure(1)\n",
    "ax1 = plt.subplot(1,2,1)\n",
    "\n",
    "#plt.title('Ajsute lineal para 6722B', fontsize = '14')\n",
    "ax1.plot(PM, PITM, 'o', color = 'darkblue')\n",
    "ax1.plot(PM, w2_ajuste1, '-.', color = 'red')\n",
    "plt.xlabel('Power Meter (13223) [mW]', fontsize = '14')\n",
    "plt.ylabel('6722B [mW]', fontsize = '14')\n",
    "plt.grid()\n",
    "\n",
    "\n",
    "fig1 = plt.figure(1)\n",
    "ax1 = plt.subplot(1,2,2)\n",
    "ax1.plot(PM1, PITM1, 'o', color = 'darkblue')\n",
    "ax1.plot(PM1, w2_ajuste2, '-.', color = 'red')\n",
    "plt.xlabel('Power Meter (13220) [mW]', fontsize = '14')\n",
    "plt.ylabel('6722B [mW]', fontsize = '14')\n",
    "plt.grid()\n",
    "\n",
    "plt.show()"
   ]
  },
  {
   "cell_type": "code",
   "execution_count": 45,
   "metadata": {},
   "outputs": [
    {
     "name": "stdout",
     "output_type": "stream",
     "text": [
      "El coeficiene de determinación asociado al ajuste para el detector 13223 es: R^2 =  0.9961910872606541\n",
      "El coeficiene de determinación asociado al ajuste para el detector 13220 es: R^2 =  0.9999079599651896\n"
     ]
    }
   ],
   "source": [
    "def r_sqr(datexp,dataj):\n",
    "    return 1-sum((datexp-dataj)**2)/sum((datexp-np.mean(datexp))**2)\n",
    "print('El coeficiene de determinación asociado al ajuste para el detector 13223 es: R^2 = ', r_sqr(PITM,w2_ajuste1)) #Coeficiente R^2\n",
    "print('El coeficiene de determinación asociado al ajuste para el detector 13220 es: R^2 = ', r_sqr(PITM1,w2_ajuste2)) #Coeficiente R^2"
   ]
  },
  {
   "cell_type": "markdown",
   "metadata": {},
   "source": [
    "# Conclusiones\n",
    "\n",
    "1. Los coeficientes de determinación muestran que el detector 13220 se comporta de forma más aproximada al detector 6722B"
   ]
  },
  {
   "cell_type": "code",
   "execution_count": null,
   "metadata": {},
   "outputs": [],
   "source": []
  },
  {
   "cell_type": "code",
   "execution_count": null,
   "metadata": {},
   "outputs": [],
   "source": []
  }
 ],
 "metadata": {
  "kernelspec": {
   "display_name": "Python 3 (ipykernel)",
   "language": "python",
   "name": "python3"
  },
  "language_info": {
   "codemirror_mode": {
    "name": "ipython",
    "version": 3
   },
   "file_extension": ".py",
   "mimetype": "text/x-python",
   "name": "python",
   "nbconvert_exporter": "python",
   "pygments_lexer": "ipython3",
   "version": "3.9.12"
  }
 },
 "nbformat": 4,
 "nbformat_minor": 4
}
