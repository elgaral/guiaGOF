{
 "cells": [
  {
   "cell_type": "code",
   "execution_count": 2,
   "metadata": {},
   "outputs": [],
   "source": [
    "import numpy as np \n",
    "import matplotlib.pylab as plt\n",
    "from scipy.optimize import curve_fit\n"
   ]
  },
  {
   "cell_type": "markdown",
   "metadata": {},
   "source": [
    "# Miercoles , 8 de junio de 2022\n",
    "\n",
    "# Comparación entre el detector 13223 y 6722B (Corrección)\n",
    "\n",
    "Las medidas seran tomadas luego de haber transcurrido 10 minutos de encendido el laser. En este caso se ha puesto el colimador luego de la primera lente. Los detectores seran puesto luego de la EFTL. Se uso el factor de calibración en el power meter 1815-C previamente reportado de 4.1e+03 W/A. Se fijo la longitud de onda en 1064 nm\n",
    "\n",
    "NOTA: Se uso el filtro interferométrico en la banda 1064 nm, porque el láser deja pasar parte del láser de 980 nm.\n",
    "\n",
    "\n",
    "Segunda posición: disco paso 300\n",
    "\n",
    "Tercera posición: disco paso 500\n",
    "\n",
    "Cuarta posición: disco paso 700\n",
    "\n",
    "Quinta posición: disco paso 1000\n",
    "\n",
    "Sexta posición: disco paso 1250\n",
    "\n",
    "Septima posición: disco paso 400\n"
   ]
  },
  {
   "cell_type": "code",
   "execution_count": 3,
   "metadata": {},
   "outputs": [],
   "source": [
    "#Medidas para el 13223\n",
    "#Segunda posición\n",
    "P1_6722_2=np.array([229]) #Det  6722B\n",
    "P1_meter2=np.array([224]) #13223"
   ]
  },
  {
   "cell_type": "code",
   "execution_count": 4,
   "metadata": {},
   "outputs": [],
   "source": [
    "#Medidas para el 13223\n",
    "#Tercera posición\n",
    "P1_6722_3=np.array([70.3]) #Det  6722B\n",
    "P1_meter3=np.array([67]) #13223"
   ]
  },
  {
   "cell_type": "code",
   "execution_count": 5,
   "metadata": {},
   "outputs": [],
   "source": [
    "#Medidas para el 13223\n",
    "#Cuarta posición\n",
    "P1_6722_4=np.array([27.5]) #Det  6722B\n",
    "P1_meter4=np.array([26.5]) #13223"
   ]
  },
  {
   "cell_type": "code",
   "execution_count": 6,
   "metadata": {},
   "outputs": [],
   "source": [
    "#Medidas para el 13223\n",
    "#Quinta posición\n",
    "P1_6722_5=np.array([7.7]) #Det  6722B\n",
    "P1_meter5=np.array([7.5]) #13223"
   ]
  },
  {
   "cell_type": "code",
   "execution_count": 7,
   "metadata": {},
   "outputs": [],
   "source": [
    "#Medidas para el 13223\n",
    "#Sexta posición\n",
    "P1_6722_6=np.array([2,6]) #Det  6722B\n",
    "P1_meter6=np.array([2.2]) #13223"
   ]
  },
  {
   "cell_type": "code",
   "execution_count": 8,
   "metadata": {},
   "outputs": [],
   "source": [
    "#Medidas para el 13223\n",
    "#Septima posición\n",
    "P1_6722_7=np.array([124]) #Det  6722B\n",
    "P1_meter7=np.array([115.2]) #13223"
   ]
  },
  {
   "cell_type": "code",
   "execution_count": 9,
   "metadata": {},
   "outputs": [],
   "source": [
    "power_meter=[]\n",
    "P6722B=[]\n",
    "for i in range(2,8):\n",
    "    power_meter.append('P1_meter'+str(i))\n",
    "    P6722B.append('P1_6722_'+str(i))\n",
    " \n",
    "PM=[]\n",
    "PITM=[]\n",
    "\n",
    "for i in range(len(power_meter)):\n",
    "    PM.append(eval(power_meter[i])[0])\n",
    "    PITM.append(eval(P6722B[i])[0])\n",
    "\n",
    "PM=np.sort(PM)\n",
    "PITM=np.sort(PITM)\n",
    "\n",
    "def ajuste(x, a,  b):\n",
    "    return a+b*x\n",
    "\n",
    "popt2, cov2  = curve_fit(ajuste, PM, PITM)\n",
    "w2_ajuste = ajuste(PM, *popt2)\n"
   ]
  },
  {
   "cell_type": "code",
   "execution_count": 10,
   "metadata": {},
   "outputs": [
    {
     "data": {
      "image/png": "[encoded data removed]",
      "text/plain": [
       "<Figure size 720x576 with 1 Axes>"
      ]
     },
     "metadata": {
      "needs_background": "light"
     },
     "output_type": "display_data"
    }
   ],
   "source": [
    "# Gráficación de los datos \n",
    "plt.figure(figsize = (10,8))\n",
    "#plt.title('Ajsute lineal para 6722B', fontsize = '14')\n",
    "plt.plot(PM, PITM, 'o', color = 'darkblue')\n",
    "plt.plot(PM, w2_ajuste, '-.', color = 'red')\n",
    "plt.xlabel('Power Meter (13223) [mW]', fontsize = '14')\n",
    "plt.ylabel('6722B [mW]', fontsize = '14')\n",
    "plt.text(100.5,1.5,'m = %.4f'%popt2[1],fontsize=14)\n",
    "plt.grid()\n",
    "plt.show()"
   ]
  },
  {
   "cell_type": "code",
   "execution_count": 11,
   "metadata": {},
   "outputs": [
    {
     "name": "stdout",
     "output_type": "stream",
     "text": [
      "El coeficiene de determinación asociado al ajuste para el detector 13223 es: R^2 =  0.999231697708977\n"
     ]
    }
   ],
   "source": [
    "def r_sqr(datexp,dataj):\n",
    "    return 1-sum((datexp-dataj)**2)/sum((datexp-np.mean(datexp))**2)\n",
    "\n",
    "print('El coeficiene de determinación asociado al ajuste para el detector 13223 es: R^2 = ', r_sqr(PITM,w2_ajuste)) #Coeficiente R^2"
   ]
  },
  {
   "cell_type": "markdown",
   "metadata": {},
   "source": [
    "# Conclusiones.\n",
    "\n",
    "1. A diferencia del reporte anterior, para un paso fijo se toman las medidas para el 13223 y posteriormente para el 6722B. Esto disminuye el posible error sistematico debido al disco como se evidencia en el valor de R^2 obtenido para ambos ajustes."
   ]
  },
  {
   "cell_type": "code",
   "execution_count": null,
   "metadata": {},
   "outputs": [],
   "source": []
  }
 ],
 "metadata": {
  "kernelspec": {
   "display_name": "Python 3 (ipykernel)",
   "language": "python",
   "name": "python3"
  },
  "language_info": {
   "codemirror_mode": {
    "name": "ipython",
    "version": 3
   },
   "file_extension": ".py",
   "mimetype": "text/x-python",
   "name": "python",
   "nbconvert_exporter": "python",
   "pygments_lexer": "ipython3",
   "version": "3.9.12"
  }
 },
 "nbformat": 4,
 "nbformat_minor": 4
}
